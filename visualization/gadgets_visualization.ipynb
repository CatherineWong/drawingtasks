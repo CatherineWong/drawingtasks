{
    "cells": [
        {
            "cell_type": "markdown",
            "id": "46b249a4-28c3-487e-8151-f1fccca7d2cc",
            "metadata": {},
            "source": [
                "# Gadgets visualization notebook\n",
                "An interactive notebook for rendering Stitch compressor inventions.\n",
                "\n",
                "Author: Gabe Grand\n",
                "\n",
                "Date: 2022-03-03"
            ]
        },
        {
            "cell_type": "code",
            "execution_count": null,
            "id": "7c110017-c283-4c0f-935c-55999b5843f2",
            "metadata": {},
            "outputs": [],
            "source": [
                "%load_ext autoreload\n",
                "%autoreload 2"
            ]
        },
        {
            "cell_type": "code",
            "execution_count": null,
            "id": "a27c33b1-3067-4b4a-a630-405914505b18",
            "metadata": {},
            "outputs": [],
            "source": [
                "import sys\n",
                "\n",
                "BASE_DIR = \"..\"\n",
                "sys.path.insert(0, BASE_DIR)"
            ]
        },
        {
            "cell_type": "code",
            "execution_count": null,
            "id": "474f8ab3-123a-420b-b010-6aa9bdf0db4d",
            "metadata": {},
            "outputs": [],
            "source": [
                "import json\n",
                "import math\n",
                "import os\n",
                "import pickle\n",
                "import re\n",
                "from collections import defaultdict\n",
                "\n",
                "import numpy as np\n",
                "import pandas as pd\n",
                "from matplotlib import pyplot as plt\n",
                "from mpl_toolkits.axes_grid1 import ImageGrid\n",
                "from PIL import Image\n",
                "from primitives.gadgets_primitives import cc_shape, polygon_shape, r_shape\n",
                "from primitives.object_primitives import (\n",
                "    SYNTHESIS_TASK_CANVAS_WIDTH_HEIGHT,\n",
                "    XYLIM,\n",
                "    export_rendered_program,\n",
                "    render_parsed_program,\n",
                "    render_stroke_arrays_to_canvas,\n",
                ")\n",
                "\n",
                "from dreamcoder_programs.program import Curried, Program, tokeniseProgram"
            ]
        },
        {
            "cell_type": "code",
            "execution_count": null,
            "id": "04584b05-1645-42f9-aa86-a330e83956cc",
            "metadata": {},
            "outputs": [],
            "source": [
                "%config InlineBackend.figure_format = 'retina'"
            ]
        },
        {
            "cell_type": "markdown",
            "id": "d45f6077-a5a1-43f5-ac6b-d6e103aa3b64",
            "metadata": {},
            "source": [
                "# Render each stroke"
            ]
        },
        {
            "cell_type": "code",
            "execution_count": null,
            "id": "508a185b-c1c9-43fb-8f33-34e20575f3a7",
            "metadata": {},
            "outputs": [],
            "source": [
                "def display_arrays_as_grid(\n",
                "    rendered_arrays, suptitle=None, titles=None, ncols=4, transparent_background=True\n",
                "):\n",
                "    N = len(rendered_arrays)\n",
                "    ncols = min(N, ncols)\n",
                "    nrows = math.ceil(N / ncols)\n",
                "\n",
                "    # fig = plt.figure(figsize=(20, 20))\n",
                "    fig = plt.figure(figsize=(4 * ncols, 4 * nrows))\n",
                "\n",
                "    grid = ImageGrid(\n",
                "        fig,\n",
                "        111,\n",
                "        nrows_ncols=(nrows, ncols),\n",
                "        axes_pad=0.4,  # pad between axes\n",
                "        # share_all=True\n",
                "    )\n",
                "\n",
                "    for i, A in enumerate(rendered_arrays):\n",
                "        ax = grid[i]\n",
                "        ax.imshow(A, cmap=\"Greys\")\n",
                "\n",
                "        ax.set_xticks([])\n",
                "        ax.set_yticks([])\n",
                "\n",
                "    for i in range(N):\n",
                "        ax = grid[i]\n",
                "        if titles is not None:\n",
                "            ax.set_title(titles[i])\n",
                "        adjust_title(ax)\n",
                "\n",
                "    if not transparent_background:\n",
                "        fig.patch.set_facecolor(\"white\")\n",
                "\n",
                "    if suptitle is not None:\n",
                "        plt.suptitle(suptitle, fontsize=24, fontweight=\"bold\", va=\"top\")\n",
                "    fig.tight_layout()\n",
                "\n",
                "    return fig\n",
                "\n",
                "\n",
                "def adjust_title(ax):\n",
                "    title = ax.title\n",
                "    ax.figure.canvas.draw()\n",
                "\n",
                "    def _get_t():\n",
                "        ax_width = ax.get_window_extent().width\n",
                "        ti_width = title.get_window_extent().width\n",
                "        return ax_width / ti_width\n",
                "\n",
                "    while _get_t() <= 1 and title.get_fontsize() > 1:\n",
                "        title.set_fontsize(title.get_fontsize() - 0.5)\n",
                "\n",
                "\n",
                "def display_programs_as_grid(programs, max_programs=16, **kwargs):\n",
                "    rendered_arrays = []\n",
                "    for p in programs:\n",
                "        try:\n",
                "            A = render_parsed_program(p, allow_partial_rendering=True)\n",
                "            rendered_arrays.append(A)\n",
                "        except:\n",
                "            pass\n",
                "            # A = np.ones((SYNTHESIS_TASK_CANVAS_WIDTH_HEIGHT, SYNTHESIS_TASK_CANVAS_WIDTH_HEIGHT))\n",
                "        # rendered_arrays.append(A)\n",
                "        if len(rendered_arrays) == max_programs:\n",
                "            break\n",
                "    if len(rendered_arrays) > 0:\n",
                "        return display_arrays_as_grid(rendered_arrays, **kwargs)\n",
                "    else:\n",
                "        print(\"No valid arrays to display.\")\n",
                "        return None"
            ]
        },
        {
            "cell_type": "markdown",
            "id": "893d2978-3b95-4f47-a4e6-7c050a88eb56",
            "metadata": {},
            "source": [
                "# Exploring Stitch inventions"
            ]
        },
        {
            "cell_type": "code",
            "execution_count": null,
            "id": "88b8a675-2652-4bc3-b6e1-cca8385db1d9",
            "metadata": {},
            "outputs": [],
            "source": [
                "INVENTIONS_DIR = \"stitch_inventions\"\n",
                "INVENTIONS_FILE = \"inventions_nuts_bolts.json\"\n",
                "# INVENTIONS_FILE = \"inventions_wheels.json\"\n",
                "\n",
                "with open(os.path.join(INVENTIONS_DIR, INVENTIONS_FILE), \"r\") as f:\n",
                "    data = json.load(f)"
            ]
        },
        {
            "cell_type": "code",
            "execution_count": null,
            "id": "a204b108-f474-4f3d-932e-8c650f7dc7a0",
            "metadata": {},
            "outputs": [],
            "source": [
                "inv_to_body = {}\n",
                "inv_to_dreamcoder = {}\n",
                "inv_to_program_fragment = defaultdict(list)\n",
                "inv_to_program_full = {}\n",
                "inv_to_use_context = defaultdict(list)\n",
                "\n",
                "for inv in data[\"invs\"]:\n",
                "    inv_to_body[inv[\"name\"]] = inv[\"body\"]\n",
                "    inv_to_dreamcoder[inv[\"name\"]] = inv[\"dreamcoder\"]\n",
                "    inv_to_program_full[inv[\"name\"]] = inv[\"rewritten\"]\n",
                "    # Sort primarily by length, then alphanumerically\n",
                "    for use in sorted(\n",
                "        inv[\"uses\"], key=lambda d: (len(list(d.keys())[0]), list(d.keys())[0])\n",
                "    ):\n",
                "        program_fragment = list(use.values())[0]\n",
                "        # inline prior inventions\n",
                "        for prior_inv_name, prior_inv_dreamcoder in inv_to_dreamcoder.items():\n",
                "            program_fragment = program_fragment.replace(\n",
                "                prior_inv_name, prior_inv_dreamcoder\n",
                "            )\n",
                "        inv_to_program_fragment[inv[\"name\"]].append(program_fragment)\n",
                "        inv_to_use_context[inv[\"name\"]].append(list(use.keys())[0])"
            ]
        },
        {
            "cell_type": "code",
            "execution_count": null,
            "id": "83589a72-ec7f-41a5-941a-e8c81313e07e",
            "metadata": {},
            "outputs": [],
            "source": [
                "RENDER_DIR = f\"renders/{os.path.splitext(INVENTIONS_FILE)[0]}\"\n",
                "os.makedirs(RENDER_DIR, exist_ok=True)\n",
                "\n",
                "np.random.seed(123)\n",
                "for inv_name in inv_to_body.keys():\n",
                "    print(inv_name)\n",
                "    # fragments_all = np.array(inv_to_program_fragment[inv_name])\n",
                "    # idxs_sampled = np.random.choice(list(range(len(fragments_all))), size=min(len(fragments_all), 16), replace=False)\n",
                "    # idxs_sampled = sorted(list(idxs_sampled))\n",
                "    # fragments_sampled = list(fragments_all[idxs_sampled])\n",
                "    fragments_sampled = inv_to_program_fragment[inv_name]\n",
                "    fig = display_programs_as_grid(\n",
                "        fragments_sampled,\n",
                "        suptitle=inv_name,\n",
                "        titles=inv_to_use_context[inv_name],\n",
                "        transparent_background=False,\n",
                "    )\n",
                "    if fig is not None:\n",
                "        pass\n",
                "        plt.savefig(f\"{RENDER_DIR}/{inv_name}.png\", dpi=144, bbox_inches=\"tight\")\n",
                "\n",
                "    # break"
            ]
        },
        {
            "cell_type": "code",
            "execution_count": null,
            "id": "9ecb153b-3d9a-4471-aa90-36926aa20826",
            "metadata": {},
            "outputs": [],
            "source": []
        }
    ],
    "metadata": {
        "kernelspec": {
            "display_name": "Python 3 (ipykernel)",
            "language": "python",
            "name": "python3"
        },
        "language_info": {
            "codemirror_mode": {
                "name": "ipython",
                "version": 3
            },
            "file_extension": ".py",
            "mimetype": "text/x-python",
            "name": "python",
            "nbconvert_exporter": "python",
            "pygments_lexer": "ipython3",
            "version": "3.7.7"
        }
    },
    "nbformat": 4,
    "nbformat_minor": 5
}