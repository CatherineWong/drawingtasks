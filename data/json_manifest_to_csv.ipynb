{
 "cells": [
  {
   "cell_type": "code",
   "execution_count": 2,
   "metadata": {},
   "outputs": [],
   "source": [
    "import os\n",
    "import json\n",
    "import boto3\n",
    "import pandas as pd"
   ]
  },
  {
   "cell_type": "code",
   "execution_count": 18,
   "metadata": {},
   "outputs": [],
   "source": [
    "buckets = ['lax-drawing-nuts-bolts-all', 'lax-drawing-furniture-all', 'lax-drawing-wheels-all']"
   ]
  },
  {
   "cell_type": "code",
   "execution_count": 20,
   "metadata": {},
   "outputs": [],
   "source": [
    "def manifest_to_df(manifest):\n",
    "    splits = ['train', 'test']\n",
    "    metadata = manifest['metadata']\n",
    "    base_name = metadata['name'][:-4]\n",
    "    s3_paths = manifest['s3_stimuli_paths_to_local_name']\n",
    "    rows = []\n",
    "\n",
    "    for split in splits:\n",
    "        mfst_split = manifest[split]\n",
    "        condition = list(mfst_split.keys())[0]\n",
    "        curriculum = list(mfst_split[condition].keys())[0]\n",
    "        images = mfst_split[condition][curriculum]\n",
    "\n",
    "    for image in s3_paths:\n",
    "        stim_id = image.split('_')[-1][:-4]\n",
    "        split = s3_paths[image].split('_')[-2]\n",
    "        row = {'data_split': split, 'base_name': base_name, 's3_path': image, 'stim_id': stim_id, 'curriculum': curriculum, 'condition': condition, 'metadata': metadata}\n",
    "        rows.append(row)\n",
    "\n",
    "    df = pd.DataFrame(rows)\n",
    "    return df\n",
    "\n",
    "def upload_to_s3(manifest, bucket_name):\n",
    "    s3 = boto3.resource(\"s3\")\n",
    "    s3.Object(bucket_name, 'manifest.csv').put(Body=manifest)\n",
    "    s3.Object(bucket_name, 'manifest.csv').Acl().put(ACL=\"public-read\")"
   ]
  },
  {
   "cell_type": "code",
   "execution_count": 32,
   "metadata": {},
   "outputs": [],
   "source": [
    "def main():\n",
    "    for bucket in buckets:\n",
    "        # Download manifests\n",
    "        s3 = boto3.client('s3')\n",
    "        s3.download_file(bucket, 'manifest.json', bucket + \"-manifest.json\")\n",
    "        \n",
    "        with open(bucket + \"-manifest.json\", \"rb\") as f:\n",
    "                manifest = json.load(f)\n",
    "        \n",
    "        # convert to CSV and reupload\n",
    "        df = manifest_to_df(manifest)\n",
    "        csv_manifest = df.to_csv(bucket + \"-manifest.csv\")\n",
    "\n",
    "            \n",
    "        # upload_to_s3(csv_manifest, bucket)\n",
    "        print(f\"Success! Uploaded new manifest to {bucket}\")"
   ]
  },
  {
   "cell_type": "code",
   "execution_count": 33,
   "metadata": {},
   "outputs": [
    {
     "name": "stdout",
     "output_type": "stream",
     "text": [
      "Success! Uploaded new manifest to lax-drawing-nuts-bolts-all\n",
      "Success! Uploaded new manifest to lax-drawing-furniture-all\n",
      "Success! Uploaded new manifest to lax-drawing-wheels-all\n"
     ]
    }
   ],
   "source": [
    "main()"
   ]
  },
  {
   "cell_type": "code",
   "execution_count": null,
   "metadata": {},
   "outputs": [],
   "source": []
  }
 ],
 "metadata": {
  "interpreter": {
   "hash": "c1c5c098bfffbd5113505208b114a587b7bc3735846c662a1a6adefdcd63b204"
  },
  "kernelspec": {
   "display_name": "Python 3",
   "language": "python",
   "name": "python3"
  }
 },
 "nbformat": 4,
 "nbformat_minor": 2
}
